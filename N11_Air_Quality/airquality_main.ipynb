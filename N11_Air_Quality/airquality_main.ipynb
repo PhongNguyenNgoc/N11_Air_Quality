{
  "nbformat": 4,
  "nbformat_minor": 0,
  "metadata": {
    "colab": {
      "provenance": [],
      "collapsed_sections": []
    },
    "kernelspec": {
      "name": "python3",
      "display_name": "Python 3"
    },
    "language_info": {
      "name": "python"
    }
  },
  "cells": [
    {
      "cell_type": "code",
      "execution_count": 46,
      "metadata": {
        "id": "A0IMH0XMUvPt"
      },
      "outputs": [],
      "source": [
        "import numpy as np # linear algebra\n",
        "import pandas as pd # data processing, CSV file I/O (e.g. pd.read_csv)\n",
        "import matplotlib.pyplot as plt\n",
        "%matplotlib inline\n",
        "import seaborn as sns\n",
        "from sklearn.model_selection import train_test_split\n",
        "from sklearn.preprocessing import LabelEncoder\n",
        "from sklearn.metrics import classification_report, confusion_matrix, precision_recall_curve, auc, roc_curve\n",
        "from sklearn.tree import DecisionTreeRegressor, export_graphviz\n",
        "import graphviz\n",
        "from sklearn.model_selection import cross_val_predict, cross_val_score"
      ]
    },
    {
      "cell_type": "code",
      "source": [
        "from google.colab import drive\n",
        "drive.mount('/content/drive/')"
      ],
      "metadata": {
        "colab": {
          "base_uri": "https://localhost:8080/"
        },
        "id": "WmbiYTBq9vt9",
        "outputId": "83d93d14-fa41-4f53-be94-d4af0b603e2e"
      },
      "execution_count": 2,
      "outputs": [
        {
          "output_type": "stream",
          "name": "stdout",
          "text": [
            "Mounted at /content/drive/\n"
          ]
        }
      ]
    },
    {
      "cell_type": "code",
      "source": [
        "df = pd.read_csv('/content/drive/MyDrive/AirQuality/AirQualityUCI.csv', sep =\";\")\n",
        "df.head()"
      ],
      "metadata": {
        "id": "iuEcredgU_6B",
        "colab": {
          "base_uri": "https://localhost:8080/",
          "height": 206
        },
        "outputId": "a95d2354-9c07-4591-e89e-e6862509fd9f"
      },
      "execution_count": 3,
      "outputs": [
        {
          "output_type": "execute_result",
          "data": {
            "text/plain": [
              "         Date      Time CO(GT)  PT08.S1(CO)  NMHC(GT) C6H6(GT)  PT08.S2(NMHC)  \\\n",
              "0  10/03/2004  18.00.00    2,6       1360.0     150.0     11,9         1046.0   \n",
              "1  10/03/2004  19.00.00      2       1292.0     112.0      9,4          955.0   \n",
              "2  10/03/2004  20.00.00    2,2       1402.0      88.0      9,0          939.0   \n",
              "3  10/03/2004  21.00.00    2,2       1376.0      80.0      9,2          948.0   \n",
              "4  10/03/2004  22.00.00    1,6       1272.0      51.0      6,5          836.0   \n",
              "\n",
              "   NOx(GT)  PT08.S3(NOx)  NO2(GT)  PT08.S4(NO2)  PT08.S5(O3)     T    RH  \\\n",
              "0    166.0        1056.0    113.0        1692.0       1268.0  13,6  48,9   \n",
              "1    103.0        1174.0     92.0        1559.0        972.0  13,3  47,7   \n",
              "2    131.0        1140.0    114.0        1555.0       1074.0  11,9  54,0   \n",
              "3    172.0        1092.0    122.0        1584.0       1203.0  11,0  60,0   \n",
              "4    131.0        1205.0    116.0        1490.0       1110.0  11,2  59,6   \n",
              "\n",
              "       AH  Unnamed: 15  Unnamed: 16  \n",
              "0  0,7578          NaN          NaN  \n",
              "1  0,7255          NaN          NaN  \n",
              "2  0,7502          NaN          NaN  \n",
              "3  0,7867          NaN          NaN  \n",
              "4  0,7888          NaN          NaN  "
            ],
            "text/html": [
              "\n",
              "  <div id=\"df-64fae0e7-2db3-4b76-af0b-e9fdb36184ad\">\n",
              "    <div class=\"colab-df-container\">\n",
              "      <div>\n",
              "<style scoped>\n",
              "    .dataframe tbody tr th:only-of-type {\n",
              "        vertical-align: middle;\n",
              "    }\n",
              "\n",
              "    .dataframe tbody tr th {\n",
              "        vertical-align: top;\n",
              "    }\n",
              "\n",
              "    .dataframe thead th {\n",
              "        text-align: right;\n",
              "    }\n",
              "</style>\n",
              "<table border=\"1\" class=\"dataframe\">\n",
              "  <thead>\n",
              "    <tr style=\"text-align: right;\">\n",
              "      <th></th>\n",
              "      <th>Date</th>\n",
              "      <th>Time</th>\n",
              "      <th>CO(GT)</th>\n",
              "      <th>PT08.S1(CO)</th>\n",
              "      <th>NMHC(GT)</th>\n",
              "      <th>C6H6(GT)</th>\n",
              "      <th>PT08.S2(NMHC)</th>\n",
              "      <th>NOx(GT)</th>\n",
              "      <th>PT08.S3(NOx)</th>\n",
              "      <th>NO2(GT)</th>\n",
              "      <th>PT08.S4(NO2)</th>\n",
              "      <th>PT08.S5(O3)</th>\n",
              "      <th>T</th>\n",
              "      <th>RH</th>\n",
              "      <th>AH</th>\n",
              "      <th>Unnamed: 15</th>\n",
              "      <th>Unnamed: 16</th>\n",
              "    </tr>\n",
              "  </thead>\n",
              "  <tbody>\n",
              "    <tr>\n",
              "      <th>0</th>\n",
              "      <td>10/03/2004</td>\n",
              "      <td>18.00.00</td>\n",
              "      <td>2,6</td>\n",
              "      <td>1360.0</td>\n",
              "      <td>150.0</td>\n",
              "      <td>11,9</td>\n",
              "      <td>1046.0</td>\n",
              "      <td>166.0</td>\n",
              "      <td>1056.0</td>\n",
              "      <td>113.0</td>\n",
              "      <td>1692.0</td>\n",
              "      <td>1268.0</td>\n",
              "      <td>13,6</td>\n",
              "      <td>48,9</td>\n",
              "      <td>0,7578</td>\n",
              "      <td>NaN</td>\n",
              "      <td>NaN</td>\n",
              "    </tr>\n",
              "    <tr>\n",
              "      <th>1</th>\n",
              "      <td>10/03/2004</td>\n",
              "      <td>19.00.00</td>\n",
              "      <td>2</td>\n",
              "      <td>1292.0</td>\n",
              "      <td>112.0</td>\n",
              "      <td>9,4</td>\n",
              "      <td>955.0</td>\n",
              "      <td>103.0</td>\n",
              "      <td>1174.0</td>\n",
              "      <td>92.0</td>\n",
              "      <td>1559.0</td>\n",
              "      <td>972.0</td>\n",
              "      <td>13,3</td>\n",
              "      <td>47,7</td>\n",
              "      <td>0,7255</td>\n",
              "      <td>NaN</td>\n",
              "      <td>NaN</td>\n",
              "    </tr>\n",
              "    <tr>\n",
              "      <th>2</th>\n",
              "      <td>10/03/2004</td>\n",
              "      <td>20.00.00</td>\n",
              "      <td>2,2</td>\n",
              "      <td>1402.0</td>\n",
              "      <td>88.0</td>\n",
              "      <td>9,0</td>\n",
              "      <td>939.0</td>\n",
              "      <td>131.0</td>\n",
              "      <td>1140.0</td>\n",
              "      <td>114.0</td>\n",
              "      <td>1555.0</td>\n",
              "      <td>1074.0</td>\n",
              "      <td>11,9</td>\n",
              "      <td>54,0</td>\n",
              "      <td>0,7502</td>\n",
              "      <td>NaN</td>\n",
              "      <td>NaN</td>\n",
              "    </tr>\n",
              "    <tr>\n",
              "      <th>3</th>\n",
              "      <td>10/03/2004</td>\n",
              "      <td>21.00.00</td>\n",
              "      <td>2,2</td>\n",
              "      <td>1376.0</td>\n",
              "      <td>80.0</td>\n",
              "      <td>9,2</td>\n",
              "      <td>948.0</td>\n",
              "      <td>172.0</td>\n",
              "      <td>1092.0</td>\n",
              "      <td>122.0</td>\n",
              "      <td>1584.0</td>\n",
              "      <td>1203.0</td>\n",
              "      <td>11,0</td>\n",
              "      <td>60,0</td>\n",
              "      <td>0,7867</td>\n",
              "      <td>NaN</td>\n",
              "      <td>NaN</td>\n",
              "    </tr>\n",
              "    <tr>\n",
              "      <th>4</th>\n",
              "      <td>10/03/2004</td>\n",
              "      <td>22.00.00</td>\n",
              "      <td>1,6</td>\n",
              "      <td>1272.0</td>\n",
              "      <td>51.0</td>\n",
              "      <td>6,5</td>\n",
              "      <td>836.0</td>\n",
              "      <td>131.0</td>\n",
              "      <td>1205.0</td>\n",
              "      <td>116.0</td>\n",
              "      <td>1490.0</td>\n",
              "      <td>1110.0</td>\n",
              "      <td>11,2</td>\n",
              "      <td>59,6</td>\n",
              "      <td>0,7888</td>\n",
              "      <td>NaN</td>\n",
              "      <td>NaN</td>\n",
              "    </tr>\n",
              "  </tbody>\n",
              "</table>\n",
              "</div>\n",
              "      <button class=\"colab-df-convert\" onclick=\"convertToInteractive('df-64fae0e7-2db3-4b76-af0b-e9fdb36184ad')\"\n",
              "              title=\"Convert this dataframe to an interactive table.\"\n",
              "              style=\"display:none;\">\n",
              "        \n",
              "  <svg xmlns=\"http://www.w3.org/2000/svg\" height=\"24px\"viewBox=\"0 0 24 24\"\n",
              "       width=\"24px\">\n",
              "    <path d=\"M0 0h24v24H0V0z\" fill=\"none\"/>\n",
              "    <path d=\"M18.56 5.44l.94 2.06.94-2.06 2.06-.94-2.06-.94-.94-2.06-.94 2.06-2.06.94zm-11 1L8.5 8.5l.94-2.06 2.06-.94-2.06-.94L8.5 2.5l-.94 2.06-2.06.94zm10 10l.94 2.06.94-2.06 2.06-.94-2.06-.94-.94-2.06-.94 2.06-2.06.94z\"/><path d=\"M17.41 7.96l-1.37-1.37c-.4-.4-.92-.59-1.43-.59-.52 0-1.04.2-1.43.59L10.3 9.45l-7.72 7.72c-.78.78-.78 2.05 0 2.83L4 21.41c.39.39.9.59 1.41.59.51 0 1.02-.2 1.41-.59l7.78-7.78 2.81-2.81c.8-.78.8-2.07 0-2.86zM5.41 20L4 18.59l7.72-7.72 1.47 1.35L5.41 20z\"/>\n",
              "  </svg>\n",
              "      </button>\n",
              "      \n",
              "  <style>\n",
              "    .colab-df-container {\n",
              "      display:flex;\n",
              "      flex-wrap:wrap;\n",
              "      gap: 12px;\n",
              "    }\n",
              "\n",
              "    .colab-df-convert {\n",
              "      background-color: #E8F0FE;\n",
              "      border: none;\n",
              "      border-radius: 50%;\n",
              "      cursor: pointer;\n",
              "      display: none;\n",
              "      fill: #1967D2;\n",
              "      height: 32px;\n",
              "      padding: 0 0 0 0;\n",
              "      width: 32px;\n",
              "    }\n",
              "\n",
              "    .colab-df-convert:hover {\n",
              "      background-color: #E2EBFA;\n",
              "      box-shadow: 0px 1px 2px rgba(60, 64, 67, 0.3), 0px 1px 3px 1px rgba(60, 64, 67, 0.15);\n",
              "      fill: #174EA6;\n",
              "    }\n",
              "\n",
              "    [theme=dark] .colab-df-convert {\n",
              "      background-color: #3B4455;\n",
              "      fill: #D2E3FC;\n",
              "    }\n",
              "\n",
              "    [theme=dark] .colab-df-convert:hover {\n",
              "      background-color: #434B5C;\n",
              "      box-shadow: 0px 1px 3px 1px rgba(0, 0, 0, 0.15);\n",
              "      filter: drop-shadow(0px 1px 2px rgba(0, 0, 0, 0.3));\n",
              "      fill: #FFFFFF;\n",
              "    }\n",
              "  </style>\n",
              "\n",
              "      <script>\n",
              "        const buttonEl =\n",
              "          document.querySelector('#df-64fae0e7-2db3-4b76-af0b-e9fdb36184ad button.colab-df-convert');\n",
              "        buttonEl.style.display =\n",
              "          google.colab.kernel.accessAllowed ? 'block' : 'none';\n",
              "\n",
              "        async function convertToInteractive(key) {\n",
              "          const element = document.querySelector('#df-64fae0e7-2db3-4b76-af0b-e9fdb36184ad');\n",
              "          const dataTable =\n",
              "            await google.colab.kernel.invokeFunction('convertToInteractive',\n",
              "                                                     [key], {});\n",
              "          if (!dataTable) return;\n",
              "\n",
              "          const docLinkHtml = 'Like what you see? Visit the ' +\n",
              "            '<a target=\"_blank\" href=https://colab.research.google.com/notebooks/data_table.ipynb>data table notebook</a>'\n",
              "            + ' to learn more about interactive tables.';\n",
              "          element.innerHTML = '';\n",
              "          dataTable['output_type'] = 'display_data';\n",
              "          await google.colab.output.renderOutput(dataTable, element);\n",
              "          const docLink = document.createElement('div');\n",
              "          docLink.innerHTML = docLinkHtml;\n",
              "          element.appendChild(docLink);\n",
              "        }\n",
              "      </script>\n",
              "    </div>\n",
              "  </div>\n",
              "  "
            ]
          },
          "metadata": {},
          "execution_count": 3
        }
      ]
    },
    {
      "cell_type": "code",
      "source": [
        "df.info()"
      ],
      "metadata": {
        "id": "thGjOs64HFjk",
        "colab": {
          "base_uri": "https://localhost:8080/"
        },
        "outputId": "72e08645-cd39-45f4-daf5-53440edcb5d3"
      },
      "execution_count": 4,
      "outputs": [
        {
          "output_type": "stream",
          "name": "stdout",
          "text": [
            "<class 'pandas.core.frame.DataFrame'>\n",
            "RangeIndex: 9471 entries, 0 to 9470\n",
            "Data columns (total 17 columns):\n",
            " #   Column         Non-Null Count  Dtype  \n",
            "---  ------         --------------  -----  \n",
            " 0   Date           9357 non-null   object \n",
            " 1   Time           9357 non-null   object \n",
            " 2   CO(GT)         9357 non-null   object \n",
            " 3   PT08.S1(CO)    9357 non-null   float64\n",
            " 4   NMHC(GT)       9357 non-null   float64\n",
            " 5   C6H6(GT)       9357 non-null   object \n",
            " 6   PT08.S2(NMHC)  9357 non-null   float64\n",
            " 7   NOx(GT)        9357 non-null   float64\n",
            " 8   PT08.S3(NOx)   9357 non-null   float64\n",
            " 9   NO2(GT)        9357 non-null   float64\n",
            " 10  PT08.S4(NO2)   9357 non-null   float64\n",
            " 11  PT08.S5(O3)    9357 non-null   float64\n",
            " 12  T              9357 non-null   object \n",
            " 13  RH             9357 non-null   object \n",
            " 14  AH             9357 non-null   object \n",
            " 15  Unnamed: 15    0 non-null      float64\n",
            " 16  Unnamed: 16    0 non-null      float64\n",
            "dtypes: float64(10), object(7)\n",
            "memory usage: 1.2+ MB\n"
          ]
        }
      ]
    },
    {
      "cell_type": "code",
      "source": [
        "df.columns"
      ],
      "metadata": {
        "id": "PfTwyWni_A_f",
        "colab": {
          "base_uri": "https://localhost:8080/"
        },
        "outputId": "f7da32b1-010d-4bc4-b05e-b89f0b555297"
      },
      "execution_count": 5,
      "outputs": [
        {
          "output_type": "execute_result",
          "data": {
            "text/plain": [
              "Index(['Date', 'Time', 'CO(GT)', 'PT08.S1(CO)', 'NMHC(GT)', 'C6H6(GT)',\n",
              "       'PT08.S2(NMHC)', 'NOx(GT)', 'PT08.S3(NOx)', 'NO2(GT)', 'PT08.S4(NO2)',\n",
              "       'PT08.S5(O3)', 'T', 'RH', 'AH', 'Unnamed: 15', 'Unnamed: 16'],\n",
              "      dtype='object')"
            ]
          },
          "metadata": {},
          "execution_count": 5
        }
      ]
    },
    {
      "cell_type": "code",
      "source": [
        "print(\"Dữ liệu gốc:\", df.shape)"
      ],
      "metadata": {
        "id": "R4Osmcae_ISw",
        "colab": {
          "base_uri": "https://localhost:8080/"
        },
        "outputId": "4318f959-79b8-43aa-82fd-83e512fe3086"
      },
      "execution_count": 6,
      "outputs": [
        {
          "output_type": "stream",
          "name": "stdout",
          "text": [
            "Dữ liệu gốc: (9471, 17)\n"
          ]
        }
      ]
    },
    {
      "cell_type": "code",
      "source": [
        "#xoá thuộc tính dữ liệu không cần thiết\n",
        "df.drop(['CO(GT)','Unnamed: 15','Unnamed: 16'],axis = 1,inplace = True)"
      ],
      "metadata": {
        "id": "OyIJM6SGS4zo"
      },
      "execution_count": 7,
      "outputs": []
    },
    {
      "cell_type": "code",
      "source": [
        "#Định dạng cột từ string sáng float\n",
        "df.replace(to_replace=',',value='.',regex=True,inplace=True) \n",
        "\n",
        "for i in 'C6H6(GT) T RH AH'.split():\n",
        "    df[i] = pd.to_numeric(df[i],errors='coerce') "
      ],
      "metadata": {
        "id": "0TB6kfSUDuQv"
      },
      "execution_count": 8,
      "outputs": []
    },
    {
      "cell_type": "code",
      "source": [
        "#Thay thế dữ liệu rỗng\n",
        "df.replace(to_replace=-200,value=np.nan,inplace=True)\n",
        "\n",
        "df.info()"
      ],
      "metadata": {
        "id": "QOI99Ukew6vj"
      },
      "execution_count": null,
      "outputs": []
    },
    {
      "cell_type": "code",
      "source": [
        "#Định dạng Date and Time thành kiểu datetime\n",
        "df['Date'] = pd.to_datetime(df['Date'],dayfirst=True) \n",
        "\n",
        "df['Time'] = pd.to_datetime(df['Time'],format= '%H.%M.%S' ).dt.time\n",
        "\n",
        "df.head()"
      ],
      "metadata": {
        "id": "JFn8r3-uxF1J"
      },
      "execution_count": null,
      "outputs": []
    },
    {
      "cell_type": "code",
      "source": [
        "NMHC_ratio = df['NMHC(GT)'].isna().sum()/len(df['NMHC(GT)'])\n",
        "\n",
        "print('The NMHC(GT) sensor has {:.2f}% of missing data.'.format(NMHC_ratio*100))"
      ],
      "metadata": {
        "colab": {
          "base_uri": "https://localhost:8080/"
        },
        "id": "le2vB3nXxLJ2",
        "outputId": "efa0276e-3837-493b-ddef-7614b5aebebc"
      },
      "execution_count": 13,
      "outputs": [
        {
          "output_type": "stream",
          "name": "stdout",
          "text": [
            "The NMHC(GT) sensor has 90.35% of missing data.\n"
          ]
        }
      ]
    },
    {
      "cell_type": "code",
      "source": [
        "df.drop('NMHC(GT)', axis=1, inplace=True) \n",
        "\n",
        "df.info()"
      ],
      "metadata": {
        "id": "sVI9Tp68xc02"
      },
      "execution_count": null,
      "outputs": []
    },
    {
      "cell_type": "code",
      "source": [
        "#kiểm tra có dữ liệu rỗng hay không\n",
        "df.apply(lambda x: len(x.isnull()))"
      ],
      "metadata": {
        "id": "WI135S7_xhJy"
      },
      "execution_count": null,
      "outputs": []
    },
    {
      "cell_type": "code",
      "source": [
        "df.isnull().sum()"
      ],
      "metadata": {
        "id": "dhFDFYMZxu0b"
      },
      "execution_count": null,
      "outputs": []
    },
    {
      "cell_type": "code",
      "source": [
        "df1=df.dropna()\n",
        " # kiểm tra lại\n",
        "df1.isnull().sum()"
      ],
      "metadata": {
        "id": "rTodrAKKxyz_"
      },
      "execution_count": null,
      "outputs": []
    },
    {
      "cell_type": "code",
      "source": [
        "df1.shape"
      ],
      "metadata": {
        "id": "A-PXngTYx85l"
      },
      "execution_count": null,
      "outputs": []
    },
    {
      "cell_type": "code",
      "source": [
        "# Kiểm tra hàng trùng lặp với drop_duplicates\n",
        "df1.drop_duplicates(inplace= True)\n",
        "\n",
        "# Để kiểm tra có hàng trùng lặp hay không sử dụng hàm Assert \n",
        "assert df1.duplicated().sum() == 0\n",
        "\n",
        "# Kiểm tra giá trị duy nhất trong Dataset\n",
        "df1.apply(lambda x: len(x.unique()))"
      ],
      "metadata": {
        "id": "pFCaDlzsyBML"
      },
      "execution_count": null,
      "outputs": []
    },
    {
      "cell_type": "code",
      "source": [
        "df1.describe()"
      ],
      "metadata": {
        "id": "y-W8M1jcyKoe"
      },
      "execution_count": null,
      "outputs": []
    },
    {
      "cell_type": "code",
      "source": [
        "df1.info()"
      ],
      "metadata": {
        "id": "z75hm10syRns"
      },
      "execution_count": null,
      "outputs": []
    },
    {
      "cell_type": "code",
      "source": [
        "plt.figure(figsize=(17,9))\n",
        "plt.subplot(2,2,1)\n",
        "sns.histplot(df1[\"T\"],stat=\"count\",color=\"red\",bins=15,kde={'alpha':0.5})\n",
        "plt.subplot(2,2,2)\n",
        "sns.histplot(df1.RH,stat=\"count\",color = \"green\",bins=15,kde={'alpha':0.5})\n",
        "plt.show()"
      ],
      "metadata": {
        "colab": {
          "base_uri": "https://localhost:8080/",
          "height": 284
        },
        "id": "E1ieUR9nyWPq",
        "outputId": "0e93f259-2faf-437c-bc7b-70051923b127"
      },
      "execution_count": 24,
      "outputs": [
        {
          "output_type": "display_data",
          "data": {
            "text/plain": [
              "<Figure size 1224x648 with 2 Axes>"
            ],
            "image/png": "[encoded data removed]"
          },
          "metadata": {
            "needs_background": "light"
          }
        }
      ]
    },
    {
      "cell_type": "code",
      "source": [
        "#hiển thị mật độ của tất cả thuộc tính\n",
        "for i in df1.columns[2:13]:\n",
        "    plt.figure(figsize=(17,9))\n",
        "    plt.subplot(2,2,1)\n",
        "    sns.histplot(x=df1[i],stat=\"count\",color=\"red\",bins=15,kde={'alpha':0.5})"
      ],
      "metadata": {
        "id": "QfItj3u2ya5Z"
      },
      "execution_count": null,
      "outputs": []
    },
    {
      "cell_type": "code",
      "source": [
        "#kiểm tra thống kê tất cả trong AirQuality\n",
        "print(\"Average Ratio of (sensor)Tin oxide(nominally CO targeted) : {0: .2f}\".format(df1['PT08.S1(CO)'].mean()))\n",
        "print(\"Average Ratio of Benzene in microg/m^3 : {0: .2f}\".format(df1['C6H6(GT)'].mean()))\n",
        "print(\"Average Ratio of (sensor)Non-Methane Hydrocarbons : {0: .2f}\".format(df1['PT08.S2(NMHC)'].mean()))\n",
        "print(\"Average Ratio of Nitrogen Oxides in ppb : {0: .2f}\".format(df1['NOx(GT)'].mean()))\n",
        "print(\"Average Ratio of (sensor)Tungsten oxide(nominally NOx targeted) : {0: .2f}\".format(df1['PT08.S3(NOx)'].mean()))\n",
        "print(\"Average Ratio of true hourly averaged NO2(Nitrogen dioxide) : {0: .2f}\".format(df1['NO2(GT)'].mean()))\n",
        "print(\"Average Ratio of (sensor)tungsten oxide(nominally NO2 targeted) : {0: .2f}\".format(df1['PT08.S4(NO2)'].mean()))\n",
        "print(\"Average Ratio of (sensor)indium oxide(nominally O3 targeted) : {0: .2f}\".format(df1['PT08.S5(O3)'].mean()))\n",
        "print(\"Average temperature in Celsius: {0: .2f}\".format(df1['T'].mean()))\n",
        "print(\"Average Relative Humidity in % : {0: .2f}\".format(df1['AH'].mean()))\n",
        "print(\"Average Absolute Humidity : {0: .2f}\".format(df1['RH'].mean()))"
      ],
      "metadata": {
        "id": "h_CLeKFLyqVu"
      },
      "execution_count": null,
      "outputs": []
    },
    {
      "cell_type": "code",
      "source": [
        "#Loại bỏ dữ liệu cảm biến do rỗng nếu được so sánh với dữ liệu cảm biến khác\n",
        "\n",
        "pd.options.mode.chained_assignment = None\n",
        "df1.drop(['NOx(GT)','NO2(GT)'],axis=1, inplace=True)\n",
        "df1.info()"
      ],
      "metadata": {
        "id": "7Q-g96Y8zDat"
      },
      "execution_count": null,
      "outputs": []
    },
    {
      "cell_type": "code",
      "source": [
        "#Loại bỏ giá trị rỗng \n",
        "\n",
        "df1_filt = df1.dropna(how='any', axis=0)\n",
        "df1_filt.reset_index(drop=True,inplace=True)\n",
        "df1_filt.info()"
      ],
      "metadata": {
        "id": "7Xx09jtLzE-D"
      },
      "execution_count": null,
      "outputs": []
    },
    {
      "cell_type": "code",
      "source": [
        "#Thêm cột week days \n",
        "\n",
        "df1_filt['Week Day'] = df1_filt['Date'].dt.day_name() \n",
        "\n",
        "#Sắp xếp lại cột\n",
        "\n",
        "cols = df1_filt.columns.tolist()\n",
        "cols = cols[:1] + cols[-1:] + cols[1:11]\n",
        "df1_filt = df1_filt[cols]\n",
        "df1_filt.head(10)"
      ],
      "metadata": {
        "colab": {
          "base_uri": "https://localhost:8080/",
          "height": 363
        },
        "id": "GSmNeM4zzHfF",
        "outputId": "edc3b7d2-a98c-4e2c-cd1e-0de8773158b5"
      },
      "execution_count": 30,
      "outputs": [
        {
          "output_type": "execute_result",
          "data": {
            "text/plain": [
              "        Date   Week Day      Time  PT08.S1(CO)  C6H6(GT)  PT08.S2(NMHC)  \\\n",
              "0 2004-03-10  Wednesday  18:00:00       1360.0      11.9         1046.0   \n",
              "1 2004-03-10  Wednesday  19:00:00       1292.0       9.4          955.0   \n",
              "2 2004-03-10  Wednesday  20:00:00       1402.0       9.0          939.0   \n",
              "3 2004-03-10  Wednesday  21:00:00       1376.0       9.2          948.0   \n",
              "4 2004-03-10  Wednesday  22:00:00       1272.0       6.5          836.0   \n",
              "5 2004-03-10  Wednesday  23:00:00       1197.0       4.7          750.0   \n",
              "6 2004-03-11   Thursday  00:00:00       1185.0       3.6          690.0   \n",
              "7 2004-03-11   Thursday  01:00:00       1136.0       3.3          672.0   \n",
              "8 2004-03-11   Thursday  02:00:00       1094.0       2.3          609.0   \n",
              "9 2004-03-11   Thursday  04:00:00       1011.0       1.3          527.0   \n",
              "\n",
              "   PT08.S3(NOx)  PT08.S4(NO2)  PT08.S5(O3)     T    RH      AH  \n",
              "0        1056.0        1692.0       1268.0  13.6  48.9  0.7578  \n",
              "1        1174.0        1559.0        972.0  13.3  47.7  0.7255  \n",
              "2        1140.0        1555.0       1074.0  11.9  54.0  0.7502  \n",
              "3        1092.0        1584.0       1203.0  11.0  60.0  0.7867  \n",
              "4        1205.0        1490.0       1110.0  11.2  59.6  0.7888  \n",
              "5        1337.0        1393.0        949.0  11.2  59.2  0.7848  \n",
              "6        1462.0        1333.0        733.0  11.3  56.8  0.7603  \n",
              "7        1453.0        1333.0        730.0  10.7  60.0  0.7702  \n",
              "8        1579.0        1276.0        620.0  10.7  59.7  0.7648  \n",
              "9        1818.0        1197.0        445.0  10.1  60.5  0.7465  "
            ],
            "text/html": [
              "\n",
              "  <div id=\"df-0d1fe49f-2a18-4bb7-a529-67ca5726889a\">\n",
              "    <div class=\"colab-df-container\">\n",
              "      <div>\n",
              "<style scoped>\n",
              "    .dataframe tbody tr th:only-of-type {\n",
              "        vertical-align: middle;\n",
              "    }\n",
              "\n",
              "    .dataframe tbody tr th {\n",
              "        vertical-align: top;\n",
              "    }\n",
              "\n",
              "    .dataframe thead th {\n",
              "        text-align: right;\n",
              "    }\n",
              "</style>\n",
              "<table border=\"1\" class=\"dataframe\">\n",
              "  <thead>\n",
              "    <tr style=\"text-align: right;\">\n",
              "      <th></th>\n",
              "      <th>Date</th>\n",
              "      <th>Week Day</th>\n",
              "      <th>Time</th>\n",
              "      <th>PT08.S1(CO)</th>\n",
              "      <th>C6H6(GT)</th>\n",
              "      <th>PT08.S2(NMHC)</th>\n",
              "      <th>PT08.S3(NOx)</th>\n",
              "      <th>PT08.S4(NO2)</th>\n",
              "      <th>PT08.S5(O3)</th>\n",
              "      <th>T</th>\n",
              "      <th>RH</th>\n",
              "      <th>AH</th>\n",
              "    </tr>\n",
              "  </thead>\n",
              "  <tbody>\n",
              "    <tr>\n",
              "      <th>0</th>\n",
              "      <td>2004-03-10</td>\n",
              "      <td>Wednesday</td>\n",
              "      <td>18:00:00</td>\n",
              "      <td>1360.0</td>\n",
              "      <td>11.9</td>\n",
              "      <td>1046.0</td>\n",
              "      <td>1056.0</td>\n",
              "      <td>1692.0</td>\n",
              "      <td>1268.0</td>\n",
              "      <td>13.6</td>\n",
              "      <td>48.9</td>\n",
              "      <td>0.7578</td>\n",
              "    </tr>\n",
              "    <tr>\n",
              "      <th>1</th>\n",
              "      <td>2004-03-10</td>\n",
              "      <td>Wednesday</td>\n",
              "      <td>19:00:00</td>\n",
              "      <td>1292.0</td>\n",
              "      <td>9.4</td>\n",
              "      <td>955.0</td>\n",
              "      <td>1174.0</td>\n",
              "      <td>1559.0</td>\n",
              "      <td>972.0</td>\n",
              "      <td>13.3</td>\n",
              "      <td>47.7</td>\n",
              "      <td>0.7255</td>\n",
              "    </tr>\n",
              "    <tr>\n",
              "      <th>2</th>\n",
              "      <td>2004-03-10</td>\n",
              "      <td>Wednesday</td>\n",
              "      <td>20:00:00</td>\n",
              "      <td>1402.0</td>\n",
              "      <td>9.0</td>\n",
              "      <td>939.0</td>\n",
              "      <td>1140.0</td>\n",
              "      <td>1555.0</td>\n",
              "      <td>1074.0</td>\n",
              "      <td>11.9</td>\n",
              "      <td>54.0</td>\n",
              "      <td>0.7502</td>\n",
              "    </tr>\n",
              "    <tr>\n",
              "      <th>3</th>\n",
              "      <td>2004-03-10</td>\n",
              "      <td>Wednesday</td>\n",
              "      <td>21:00:00</td>\n",
              "      <td>1376.0</td>\n",
              "      <td>9.2</td>\n",
              "      <td>948.0</td>\n",
              "      <td>1092.0</td>\n",
              "      <td>1584.0</td>\n",
              "      <td>1203.0</td>\n",
              "      <td>11.0</td>\n",
              "      <td>60.0</td>\n",
              "      <td>0.7867</td>\n",
              "    </tr>\n",
              "    <tr>\n",
              "      <th>4</th>\n",
              "      <td>2004-03-10</td>\n",
              "      <td>Wednesday</td>\n",
              "      <td>22:00:00</td>\n",
              "      <td>1272.0</td>\n",
              "      <td>6.5</td>\n",
              "      <td>836.0</td>\n",
              "      <td>1205.0</td>\n",
              "      <td>1490.0</td>\n",
              "      <td>1110.0</td>\n",
              "      <td>11.2</td>\n",
              "      <td>59.6</td>\n",
              "      <td>0.7888</td>\n",
              "    </tr>\n",
              "    <tr>\n",
              "      <th>5</th>\n",
              "      <td>2004-03-10</td>\n",
              "      <td>Wednesday</td>\n",
              "      <td>23:00:00</td>\n",
              "      <td>1197.0</td>\n",
              "      <td>4.7</td>\n",
              "      <td>750.0</td>\n",
              "      <td>1337.0</td>\n",
              "      <td>1393.0</td>\n",
              "      <td>949.0</td>\n",
              "      <td>11.2</td>\n",
              "      <td>59.2</td>\n",
              "      <td>0.7848</td>\n",
              "    </tr>\n",
              "    <tr>\n",
              "      <th>6</th>\n",
              "      <td>2004-03-11</td>\n",
              "      <td>Thursday</td>\n",
              "      <td>00:00:00</td>\n",
              "      <td>1185.0</td>\n",
              "      <td>3.6</td>\n",
              "      <td>690.0</td>\n",
              "      <td>1462.0</td>\n",
              "      <td>1333.0</td>\n",
              "      <td>733.0</td>\n",
              "      <td>11.3</td>\n",
              "      <td>56.8</td>\n",
              "      <td>0.7603</td>\n",
              "    </tr>\n",
              "    <tr>\n",
              "      <th>7</th>\n",
              "      <td>2004-03-11</td>\n",
              "      <td>Thursday</td>\n",
              "      <td>01:00:00</td>\n",
              "      <td>1136.0</td>\n",
              "      <td>3.3</td>\n",
              "      <td>672.0</td>\n",
              "      <td>1453.0</td>\n",
              "      <td>1333.0</td>\n",
              "      <td>730.0</td>\n",
              "      <td>10.7</td>\n",
              "      <td>60.0</td>\n",
              "      <td>0.7702</td>\n",
              "    </tr>\n",
              "    <tr>\n",
              "      <th>8</th>\n",
              "      <td>2004-03-11</td>\n",
              "      <td>Thursday</td>\n",
              "      <td>02:00:00</td>\n",
              "      <td>1094.0</td>\n",
              "      <td>2.3</td>\n",
              "      <td>609.0</td>\n",
              "      <td>1579.0</td>\n",
              "      <td>1276.0</td>\n",
              "      <td>620.0</td>\n",
              "      <td>10.7</td>\n",
              "      <td>59.7</td>\n",
              "      <td>0.7648</td>\n",
              "    </tr>\n",
              "    <tr>\n",
              "      <th>9</th>\n",
              "      <td>2004-03-11</td>\n",
              "      <td>Thursday</td>\n",
              "      <td>04:00:00</td>\n",
              "      <td>1011.0</td>\n",
              "      <td>1.3</td>\n",
              "      <td>527.0</td>\n",
              "      <td>1818.0</td>\n",
              "      <td>1197.0</td>\n",
              "      <td>445.0</td>\n",
              "      <td>10.1</td>\n",
              "      <td>60.5</td>\n",
              "      <td>0.7465</td>\n",
              "    </tr>\n",
              "  </tbody>\n",
              "</table>\n",
              "</div>\n",
              "      <button class=\"colab-df-convert\" onclick=\"convertToInteractive('df-0d1fe49f-2a18-4bb7-a529-67ca5726889a')\"\n",
              "              title=\"Convert this dataframe to an interactive table.\"\n",
              "              style=\"display:none;\">\n",
              "        \n",
              "  <svg xmlns=\"http://www.w3.org/2000/svg\" height=\"24px\"viewBox=\"0 0 24 24\"\n",
              "       width=\"24px\">\n",
              "    <path d=\"M0 0h24v24H0V0z\" fill=\"none\"/>\n",
              "    <path d=\"M18.56 5.44l.94 2.06.94-2.06 2.06-.94-2.06-.94-.94-2.06-.94 2.06-2.06.94zm-11 1L8.5 8.5l.94-2.06 2.06-.94-2.06-.94L8.5 2.5l-.94 2.06-2.06.94zm10 10l.94 2.06.94-2.06 2.06-.94-2.06-.94-.94-2.06-.94 2.06-2.06.94z\"/><path d=\"M17.41 7.96l-1.37-1.37c-.4-.4-.92-.59-1.43-.59-.52 0-1.04.2-1.43.59L10.3 9.45l-7.72 7.72c-.78.78-.78 2.05 0 2.83L4 21.41c.39.39.9.59 1.41.59.51 0 1.02-.2 1.41-.59l7.78-7.78 2.81-2.81c.8-.78.8-2.07 0-2.86zM5.41 20L4 18.59l7.72-7.72 1.47 1.35L5.41 20z\"/>\n",
              "  </svg>\n",
              "      </button>\n",
              "      \n",
              "  <style>\n",
              "    .colab-df-container {\n",
              "      display:flex;\n",
              "      flex-wrap:wrap;\n",
              "      gap: 12px;\n",
              "    }\n",
              "\n",
              "    .colab-df-convert {\n",
              "      background-color: #E8F0FE;\n",
              "      border: none;\n",
              "      border-radius: 50%;\n",
              "      cursor: pointer;\n",
              "      display: none;\n",
              "      fill: #1967D2;\n",
              "      height: 32px;\n",
              "      padding: 0 0 0 0;\n",
              "      width: 32px;\n",
              "    }\n",
              "\n",
              "    .colab-df-convert:hover {\n",
              "      background-color: #E2EBFA;\n",
              "      box-shadow: 0px 1px 2px rgba(60, 64, 67, 0.3), 0px 1px 3px 1px rgba(60, 64, 67, 0.15);\n",
              "      fill: #174EA6;\n",
              "    }\n",
              "\n",
              "    [theme=dark] .colab-df-convert {\n",
              "      background-color: #3B4455;\n",
              "      fill: #D2E3FC;\n",
              "    }\n",
              "\n",
              "    [theme=dark] .colab-df-convert:hover {\n",
              "      background-color: #434B5C;\n",
              "      box-shadow: 0px 1px 3px 1px rgba(0, 0, 0, 0.15);\n",
              "      filter: drop-shadow(0px 1px 2px rgba(0, 0, 0, 0.3));\n",
              "      fill: #FFFFFF;\n",
              "    }\n",
              "  </style>\n",
              "\n",
              "      <script>\n",
              "        const buttonEl =\n",
              "          document.querySelector('#df-0d1fe49f-2a18-4bb7-a529-67ca5726889a button.colab-df-convert');\n",
              "        buttonEl.style.display =\n",
              "          google.colab.kernel.accessAllowed ? 'block' : 'none';\n",
              "\n",
              "        async function convertToInteractive(key) {\n",
              "          const element = document.querySelector('#df-0d1fe49f-2a18-4bb7-a529-67ca5726889a');\n",
              "          const dataTable =\n",
              "            await google.colab.kernel.invokeFunction('convertToInteractive',\n",
              "                                                     [key], {});\n",
              "          if (!dataTable) return;\n",
              "\n",
              "          const docLinkHtml = 'Like what you see? Visit the ' +\n",
              "            '<a target=\"_blank\" href=https://colab.research.google.com/notebooks/data_table.ipynb>data table notebook</a>'\n",
              "            + ' to learn more about interactive tables.';\n",
              "          element.innerHTML = '';\n",
              "          dataTable['output_type'] = 'display_data';\n",
              "          await google.colab.output.renderOutput(dataTable, element);\n",
              "          const docLink = document.createElement('div');\n",
              "          docLink.innerHTML = docLinkHtml;\n",
              "          element.appendChild(docLink);\n",
              "        }\n",
              "      </script>\n",
              "    </div>\n",
              "  </div>\n",
              "  "
            ]
          },
          "metadata": {},
          "execution_count": 30
        }
      ]
    },
    {
      "cell_type": "code",
      "source": [
        "#Tạo dataframe với dữ liệu Wednesdays\n",
        "\n",
        "df1_wed = df1_filt[df1_filt['Week Day'] == 'Wednesday']\n",
        "\n",
        "#Biểu đồ giá trị CO vào Wednesdays\n",
        "\n",
        "sns.barplot(x='Time',y='PT08.S1(CO)', data=df1_wed.sort_values('Time'))\n",
        "plt.title('Mean Hourly Values of CO on Wednesdays')\n",
        "plt.xticks(rotation=90)\n",
        "plt.show()\n"
      ],
      "metadata": {
        "colab": {
          "base_uri": "https://localhost:8080/",
          "height": 330
        },
        "id": "lWUJ7ONFzMKt",
        "outputId": "2b66288c-a046-418f-a4e5-ca1c64704980"
      },
      "execution_count": 31,
      "outputs": [
        {
          "output_type": "display_data",
          "data": {
            "text/plain": [
              "<Figure size 432x288 with 1 Axes>"
            ],
            "image/png": "[encoded data removed]"
          },
          "metadata": {
            "needs_background": "light"
          }
        }
      ]
    },
    {
      "cell_type": "code",
      "source": [
        "#Biểu đồ giá trị Benzene vào Wednesdays\n",
        "\n",
        "sns.barplot(x='Time',y='C6H6(GT)', data=df1_wed.sort_values('Time'))\n",
        "plt.title('Mean Hourly Values of Benzene on Wednesdays')\n",
        "plt.xticks(rotation=90)\n",
        "plt.show()"
      ],
      "metadata": {
        "colab": {
          "base_uri": "https://localhost:8080/",
          "height": 330
        },
        "id": "A2cSeeqEzSGz",
        "outputId": "6f2417e7-66f2-4851-f149-3de0f874e8ae"
      },
      "execution_count": 32,
      "outputs": [
        {
          "output_type": "display_data",
          "data": {
            "text/plain": [
              "<Figure size 432x288 with 1 Axes>"
            ],
            "image/png": "[encoded data removed]"
          },
          "metadata": {
            "needs_background": "light"
          }
        }
      ]
    },
    {
      "cell_type": "code",
      "source": [
        "#Biểu đồ giá trị Nonmethane Hydrocarbon vào Wednesdays\n",
        "\n",
        "sns.barplot(x='Time',y='PT08.S2(NMHC)', data=df1_wed.sort_values('Time'))\n",
        "plt.title('Mean Hourly Values of Nonmethane Hydrocarbon on Wednesdays')\n",
        "plt.xticks(rotation=90)\n",
        "plt.show()"
      ],
      "metadata": {
        "colab": {
          "base_uri": "https://localhost:8080/",
          "height": 330
        },
        "id": "cAJcDp1OzTul",
        "outputId": "ed3dab79-00a4-4e19-e66e-09906dae9c23"
      },
      "execution_count": 33,
      "outputs": [
        {
          "output_type": "display_data",
          "data": {
            "text/plain": [
              "<Figure size 432x288 with 1 Axes>"
            ],
            "image/png": "[encoded data removed]"
          },
          "metadata": {
            "needs_background": "light"
          }
        }
      ]
    },
    {
      "cell_type": "code",
      "source": [
        "#Biểu đồ giá trị nitrogen dioxide vào Wednesdays\n",
        "\n",
        "sns.barplot(x='Time',y='PT08.S3(NOx)', data=df1_wed.sort_values('Time'))\n",
        "plt.title('Mean Hourly Values of nitrogen dioxide on Wednesdays')\n",
        "plt.xticks(rotation=90)\n",
        "plt.show()"
      ],
      "metadata": {
        "colab": {
          "base_uri": "https://localhost:8080/",
          "height": 330
        },
        "id": "dzGKam8uzWcz",
        "outputId": "78fc4270-d976-449d-e4c6-85764633f7ce"
      },
      "execution_count": 34,
      "outputs": [
        {
          "output_type": "display_data",
          "data": {
            "text/plain": [
              "<Figure size 432x288 with 1 Axes>"
            ],
            "image/png": "[encoded data removed]"
          },
          "metadata": {
            "needs_background": "light"
          }
        }
      ]
    },
    {
      "cell_type": "code",
      "source": [
        "#Biểu đồ giá trị nitrogen dioxide vào Wednesdays\n",
        "\n",
        "sns.barplot(x='Time',y='PT08.S4(NO2)', data=df1_wed.sort_values('Time'))\n",
        "plt.title('Mean Hourly Values of nitrogen dioxide on Wednesdays')\n",
        "plt.xticks(rotation=90)\n",
        "plt.show()\n"
      ],
      "metadata": {
        "colab": {
          "base_uri": "https://localhost:8080/",
          "height": 330
        },
        "id": "pcxFBSyIzW5f",
        "outputId": "e60e11d5-b0a7-4d64-c700-49aab272de07"
      },
      "execution_count": 35,
      "outputs": [
        {
          "output_type": "display_data",
          "data": {
            "text/plain": [
              "<Figure size 432x288 with 1 Axes>"
            ],
            "image/png": "[encoded data removed]"
          },
          "metadata": {
            "needs_background": "light"
          }
        }
      ]
    },
    {
      "cell_type": "code",
      "source": [
        "#Biểu đồ giá trị indium oxide on Wednesdays\n",
        "\n",
        "sns.barplot(x='Time',y='PT08.S5(O3)', data=df1_wed.sort_values('Time'))\n",
        "plt.title('Mean Hourly Values of indium oxide on Wednesdays')\n",
        "plt.xticks(rotation=90)\n",
        "plt.show()"
      ],
      "metadata": {
        "colab": {
          "base_uri": "https://localhost:8080/",
          "height": 330
        },
        "id": "R2pE_t61zYO2",
        "outputId": "e3680a27-445a-4264-affe-6c234a797e7b"
      },
      "execution_count": 36,
      "outputs": [
        {
          "output_type": "display_data",
          "data": {
            "text/plain": [
              "<Figure size 432x288 with 1 Axes>"
            ],
            "image/png": "[encoded data removed]"
          },
          "metadata": {
            "needs_background": "light"
          }
        }
      ]
    },
    {
      "cell_type": "code",
      "source": [
        "sns.barplot(x='Time',y='T', data=df1_wed.sort_values('Time'))\n",
        "plt.title('Mean Hourly Values of tembrature on Wednesdays')\n",
        "plt.xticks(rotation=90)\n",
        "plt.show()"
      ],
      "metadata": {
        "colab": {
          "base_uri": "https://localhost:8080/",
          "height": 330
        },
        "id": "H5uaZSzmzaAM",
        "outputId": "47e8f9d3-2e55-4cce-9c3c-83a9b7460d4a"
      },
      "execution_count": 37,
      "outputs": [
        {
          "output_type": "display_data",
          "data": {
            "text/plain": [
              "<Figure size 432x288 with 1 Axes>"
            ],
            "image/png": "[encoded data removed]"
          },
          "metadata": {
            "needs_background": "light"
          }
        }
      ]
    },
    {
      "cell_type": "code",
      "source": [
        "#Visualize mô hình thể hiện mối tương quan giữa các thuộc tính\n",
        "plt.figure(figsize=(14,12))\n",
        "sns.heatmap(df.corr(),linewidths=.1,cmap=\"YlGnBu\", annot=True, annot_kws={\"size\": 8})\n",
        "plt.yticks(rotation=0);\n",
        "#plt.savefig(\"corr.png\", format='png', dpi=100, bbox_inches='tight')\n",
        "plt.show()"
      ],
      "metadata": {
        "id": "EobApD64zb4l"
      },
      "execution_count": null,
      "outputs": []
    },
    {
      "cell_type": "code",
      "source": [
        "sns.pairplot(df1)\n",
        "plt.show()"
      ],
      "metadata": {
        "id": "u4EGcYMF0g9j"
      },
      "execution_count": null,
      "outputs": []
    },
    {
      "cell_type": "markdown",
      "source": [
        "**Decision Tree**"
      ],
      "metadata": {
        "id": "F3kq5awH1BcO"
      }
    },
    {
      "cell_type": "code",
      "source": [
        "df1.columns"
      ],
      "metadata": {
        "colab": {
          "base_uri": "https://localhost:8080/"
        },
        "id": "bx8BUlr41hjo",
        "outputId": "539ae4b9-0eff-4040-ff9c-b48ce3c870e3"
      },
      "execution_count": 41,
      "outputs": [
        {
          "output_type": "execute_result",
          "data": {
            "text/plain": [
              "Index(['Date', 'Time', 'PT08.S1(CO)', 'C6H6(GT)', 'PT08.S2(NMHC)',\n",
              "       'PT08.S3(NOx)', 'PT08.S4(NO2)', 'PT08.S5(O3)', 'T', 'RH', 'AH'],\n",
              "      dtype='object')"
            ]
          },
          "metadata": {},
          "execution_count": 41
        }
      ]
    },
    {
      "cell_type": "code",
      "source": [
        "df1.drop(['Date','Time'], axis=1, inplace = True)"
      ],
      "metadata": {
        "id": "mcEUafen1dQB"
      },
      "execution_count": 42,
      "outputs": []
    },
    {
      "cell_type": "code",
      "source": [
        "#Xử lý dữ liệu để vẽ cây quyết định\n",
        "X_dt = df1.drop(['PT08.S1(CO)'], axis=1)  \n",
        "Y = df1[\"PT08.S1(CO)\"]\n",
        "X_train_dt, X_test_dt, Y_train_dt, Y_test_dt = train_test_split(X_dt, Y, random_state=42, test_size=0.3)"
      ],
      "metadata": {
        "id": "p88sRSBg1fg2"
      },
      "execution_count": 43,
      "outputs": []
    },
    {
      "cell_type": "code",
      "source": [
        "print(X_train_dt.shape, X_test_dt.shape)"
      ],
      "metadata": {
        "colab": {
          "base_uri": "https://localhost:8080/"
        },
        "id": "lM0AG70P8pjb",
        "outputId": "f23b3fd8-c30f-4f34-cb73-d24992eb8d67"
      },
      "execution_count": 58,
      "outputs": [
        {
          "output_type": "stream",
          "name": "stdout",
          "text": [
            "(5175, 8) (2218, 8)\n"
          ]
        }
      ]
    },
    {
      "cell_type": "code",
      "source": [
        "def train_and_test(model, train_data, test_data):\n",
        "    \"\"\"\n",
        "    Trains the model on the training data, prints the score for such model evaluating it on the testing data\n",
        "    and also returns the learned model\n",
        "    model: classifier to be used\n",
        "    train_data: [X_train_dt, Y_train_dt]\n",
        "    test_data: [X_test_dt, Y_test_dt]\n",
        "    \"\"\"\n",
        "    # Fits the model to the training data \n",
        "    model.fit(train_data[0], train_data[1])\n",
        "    # Evaluates the model using the testing data\n",
        "    print(model.score(test_data[0], test_data[1]))\n",
        "    # Returns the fitted model\n",
        "    return model"
      ],
      "metadata": {
        "id": "LUSy-0Yw2Nbo"
      },
      "execution_count": 44,
      "outputs": []
    },
    {
      "cell_type": "code",
      "source": [
        "from sklearn.tree import DecisionTreeRegressor as clf\n",
        "Y_name = ['PT08.S1(CO)', 'C6H6(GT)', 'PT08.S2(NMHC)', 'PT08.S3(NOx)', 'PT08.S4(NO2)', 'PT08.S5(O3)', 'T', 'RH', 'AH']\n",
        "clf = DecisionTreeRegressor(random_state=0,max_depth = 3)\n",
        "clf.fit(X_train_dt, Y_train_dt)\n",
        "Y_pred_dt = clf.predict(X_test_dt)\n",
        "dot_data = export_graphviz(clf, out_file=None, \n",
        "                         feature_names=X_dt.columns,\n",
        "                         class_names=Y_name, \n",
        "                         filled=True, rounded=True,  \n",
        "                         special_characters=True)  \n",
        "graph = graphviz.Source(dot_data)\n",
        "#graph.render(filename='DecisionTree')\n",
        "graph"
      ],
      "metadata": {
        "id": "9cwVl0wj2QjA"
      },
      "execution_count": null,
      "outputs": []
    },
    {
      "cell_type": "markdown",
      "source": [
        "Theo mô hình cây quyết định ta thấy PT08.S5(O3) là node gốc của cây"
      ],
      "metadata": {
        "id": "KwkZZ_Qn2q79"
      }
    },
    {
      "cell_type": "code",
      "source": [
        "#Visualize biểu đồ thể hiện các đặc tính quan trọng trong bộ dữ liệu AQ\n",
        "features_list = X_dt.columns.values\n",
        "feature_importance = clf.feature_importances_\n",
        "sorted_idx = np.argsort(feature_importance)\n",
        "\n",
        "plt.figure(figsize=(6,5))\n",
        "plt.barh(range(len(sorted_idx)), feature_importance[sorted_idx], align='center')\n",
        "plt.yticks(range(len(sorted_idx)), features_list[sorted_idx])\n",
        "plt.xlabel('Importance')\n",
        "plt.title('Feature importances')\n",
        "plt.draw()\n",
        "plt.show()"
      ],
      "metadata": {
        "id": "-0xL6f8o2dqG"
      },
      "execution_count": null,
      "outputs": []
    },
    {
      "cell_type": "code",
      "source": [
        "from sklearn.model_selection import cross_val_predict, cross_val_score\n",
        "\n",
        "print(\"TEST RESULTS:\\n\")\n",
        "#Report\n",
        "print('Decision Tree Classifier Report:\\n\\n{}\\n'.format(classification_report(Y_test_dt, Y_pred_dt)))\n",
        "res = cross_val_score(clf, X_test_dt,Y_test_dt, cv=10, n_jobs=-1, scoring='accuracy')\n",
        "#Điểm chính xác\n",
        "print(\"Accuracy Score:\\t\\t{}%\".format(round(clf.score(X_test_dt, Y_test_dt)*100, 2)))"
      ],
      "metadata": {
        "id": "jSsgTsNK9BxW"
      },
      "execution_count": null,
      "outputs": []
    },
    {
      "cell_type": "markdown",
      "source": [
        "**Decision Tree Regressor**"
      ],
      "metadata": {
        "id": "GzOn11ix_Xrk"
      }
    },
    {
      "cell_type": "code",
      "source": [
        "from sklearn.metrics import roc_auc_score , classification_report, mean_squared_error, r2_score\n",
        "from sklearn.metrics import precision_score, recall_score, accuracy_score, classification_report\n",
        "from sklearn.feature_selection import *\n",
        "from sklearn import metrics\n",
        "\n",
        "from sklearn.tree import DecisionTreeRegressor\n",
        "\n",
        "tree = DecisionTreeRegressor(max_depth=3)\n",
        "tree.fit(X_train_dt, Y_train_dt)\n",
        "\n",
        "y_train_pred = tree.predict(X_train_dt)\n",
        "y_test_pred = tree.predict(X_test_dt)\n",
        "\n",
        "print('MSE train: %.3f, test: %.3f' % (\n",
        "        mean_squared_error(Y_train_dt, y_train_pred),\n",
        "        mean_squared_error(Y_test_dt, y_test_pred)))\n",
        "print('R^2 train: %.3f, test: %.3f' % (\n",
        "        r2_score(Y_train_dt, y_train_pred),\n",
        "        r2_score(Y_test_dt, y_test_pred)))"
      ],
      "metadata": {
        "colab": {
          "base_uri": "https://localhost:8080/"
        },
        "id": "F_YNtvpm-NMJ",
        "outputId": "6c8fa971-99ac-4b18-c18f-0948a752d87d"
      },
      "execution_count": 61,
      "outputs": [
        {
          "output_type": "stream",
          "name": "stdout",
          "text": [
            "MSE train: 8861.355, test: 10010.364\n",
            "R^2 train: 0.814, test: 0.790\n"
          ]
        }
      ]
    }
  ]
}